{
 "cells": [
  {
   "cell_type": "markdown",
   "metadata": {
    "slideshow": {
     "slide_type": "slide"
    }
   },
   "source": [
    "#  Introduction\n",
    "\n",
    "To understand how Blockchain works, we must first discuss how distributed systems work.\n",
    "\n",
    "The goal of this notebook is to explain the building blocks for any distributed system, and specifically a peer-to-peer system. P2P environment is a network where peers are connected, exchange information and run applications on top of it.\n",
    "\n",
    "The goals are as follows:\n",
    "- We will build a system block by block.\n",
    "- Distributed systems are hard as there are many random errors: race conditions, nasty bugs, deadlocks.\n",
    "- We will simplify the world to get to the juiciest parts without leaving out the essentials.  \n",
    "\n",
    "\n",
    "We will simulate the P2P environment locally to get an idea of how such systems would work and understand the design decision that developers make.\n",
    "\n",
    "To show the different tradeoffs and why developers and researchers choose specific designs, we need a way to simulate such an environment. Here we will simulate the network and message exchange via a  discrete event simulator: [SimPy](simpy.readthedocs.io/en/latest/).\n",
    "\n",
    "For the simplicity of use, you can use wrapper for SimPY implement a P2P network simulation: `p2psimpy`. \n",
    "\n",
    "\n",
    "# Simulation of P2P environments\n",
    "\n",
    "We start the notebook by introducing the backbone for such a simulation: `BaseSimulation`.\n",
    "This class represents the network of peers with their physical representations in the world, such as physical `location`, [`bandwidth`](https://en.wikipedia.org/wiki/Bandwidth_(computing)). \n",
    "\n",
    "These properties both define and restrict the capabilities of how fast you can transfer messages and how message travel through the network (which peers see the message, which channels are used).\n",
    "\n",
    "\n",
    "`BaseSimulation` consists of 3 main parameters: \n",
    " - *Locations*\n",
    " - *Network Topology* \n",
    " - *Services and Message Processors* \n",
    "\n",
    "We will explain them one by one. \n",
    "\n"
   ]
  },
  {
   "cell_type": "markdown",
   "metadata": {},
   "source": [
    "\n",
    "### Simulating latencies between locations\n",
    "\n",
    "The simulator simulates connection delays (`latency`) between the nodes in the physical space (`location`).\n",
    "This is a very rough representation of reality but is sufficient for us. You can read more about jitter and latency [here](https://www.tpx.com/blog/latency-jitter-and-packet-loss/) or [here](https://www.youtube.com/watch?v=WdbJdUh6W08).   \n",
    "\n",
    "\n",
    "\n",
    "Locations are defined as a `Config` class. Variables can be constant, or probabilistic (with a probability distribution using scipy).\n",
    "This class can be used as generators of parameters, saved and loaded as a [YAML](https://en.wikipedia.org/wiki/YAML) file."
   ]
  },
  {
   "cell_type": "markdown",
   "metadata": {},
   "source": [
    "  "
   ]
  },
  {
   "cell_type": "markdown",
   "metadata": {},
   "source": [
    "Location configuration should contain at least two fields: `locations` and `latencies`. \n",
    "- `locations` is an array or a tuple with names of locations.\n",
    "- `latencies` is a dictionary (matrix) with latencies of pairwise connections.\n",
    "\n",
    "Depending on the experiments, latencies can be constant, but a more realistic model is a probabilistic distribution.\n",
    "Such a distribution is represented with the `Dist` class. \n",
    "\n",
    "`Dist` class is a wrap-around [scipy.stats](https://docs.scipy.org/doc/scipy/reference/stats.html), which has a rich collection of distributions. Use the [link](https://docs.scipy.org/doc/scipy/reference/stats.html) as reference documentation when choosing a distribution function.   \n",
    "\n",
    "Finally,  `Config.get()` samples all the parameters from distributions and returns them as a dictionary.  \n",
    "\n",
    "Let's try it out:"
   ]
  },
  {
   "cell_type": "code",
   "execution_count": 28,
   "metadata": {
    "ExecuteTime": {
     "end_time": "2020-03-27T09:17:35.256784Z",
     "start_time": "2020-03-27T09:17:34.199645Z"
    },
    "recordTiming": true
   },
   "outputs": [],
   "source": [
    "from p2psimpy.config import *\n",
    "\n",
    "\n",
    "class ConstLocations(Config):\n",
    "    '''A configuration with 2 locations: LocA and LocB with constant latencies.'''\n",
    "    locations = ['LocA', 'LocB']\n",
    "    latencies = {\n",
    "        'LocA': {'LocB': 10, 'LocA': 2},\n",
    "        'LocB': {'LocB': 1}\n",
    "    }    \n",
    "\n",
    "class DistLocations(Config):\n",
    "    '''A configuration with 2 locations: LocA and LocB with variable latencies defined with a statistical function.'''\n",
    "    locations = ['LocA', 'LocB']\n",
    "    latencies = {\n",
    "        'LocB': {'LocB': Dist('gamma', (1, 1, 1))},\n",
    "        'LocA': {'LocB': Dist('norm', (12, 2)), 'LocA': Dist('norm', (2, 0.5))},\n",
    "    }    \n",
    "    "
   ]
  },
  {
   "cell_type": "code",
   "execution_count": 2,
   "metadata": {
    "ExecuteTime": {
     "end_time": "2020-03-27T09:17:35.274429Z",
     "start_time": "2020-03-27T09:17:35.259195Z"
    }
   },
   "outputs": [
    {
     "data": {
      "text/plain": [
       "{'latencies': {'LocA': {'LocB': 10, 'LocA': 2}, 'LocB': {'LocB': 1}},\n",
       " 'locations': ['LocA', 'LocB']}"
      ]
     },
     "execution_count": 2,
     "metadata": {},
     "output_type": "execute_result"
    }
   ],
   "source": [
    "ConstLocations.get()"
   ]
  },
  {
   "cell_type": "code",
   "execution_count": 3,
   "metadata": {
    "ExecuteTime": {
     "end_time": "2020-03-27T09:17:35.287131Z",
     "start_time": "2020-03-27T09:17:35.278297Z"
    }
   },
   "outputs": [
    {
     "data": {
      "text/plain": [
       "{'latencies': {'LocB': {'LocB': 3.9318724245718704},\n",
       "  'LocA': {'LocB': 12.75988044918504, 'LocA': 2.410948062802147}},\n",
       " 'locations': ['LocA', 'LocB']}"
      ]
     },
     "execution_count": 3,
     "metadata": {},
     "output_type": "execute_result"
    }
   ],
   "source": [
    "DistLocations.get()"
   ]
  },
  {
   "cell_type": "markdown",
   "metadata": {},
   "source": [
    "Every time you call `Config.get()` it will return new sample"
   ]
  },
  {
   "cell_type": "code",
   "execution_count": 4,
   "metadata": {
    "ExecuteTime": {
     "end_time": "2020-03-27T09:17:35.304760Z",
     "start_time": "2020-03-27T09:17:35.294903Z"
    }
   },
   "outputs": [
    {
     "data": {
      "text/plain": [
       "{'latencies': {'LocB': {'LocB': 1.2444732856597864},\n",
       "  'LocA': {'LocB': 12.356894795119484, 'LocA': 2.1535343409493075}},\n",
       " 'locations': ['LocA', 'LocB']}"
      ]
     },
     "execution_count": 4,
     "metadata": {},
     "output_type": "execute_result"
    }
   ],
   "source": [
    "DistLocations.get()"
   ]
  },
  {
   "cell_type": "markdown",
   "metadata": {},
   "source": [
    " "
   ]
  },
  {
   "cell_type": "markdown",
   "metadata": {},
   "source": [
    "To visualize it we can represent latencies sample as pandas dataframe. It provides a readable table:"
   ]
  },
  {
   "cell_type": "code",
   "execution_count": 5,
   "metadata": {
    "ExecuteTime": {
     "end_time": "2020-03-27T09:17:35.896505Z",
     "start_time": "2020-03-27T09:17:35.307036Z"
    }
   },
   "outputs": [
    {
     "data": {
      "text/html": [
       "<div>\n",
       "<style scoped>\n",
       "    .dataframe tbody tr th:only-of-type {\n",
       "        vertical-align: middle;\n",
       "    }\n",
       "\n",
       "    .dataframe tbody tr th {\n",
       "        vertical-align: top;\n",
       "    }\n",
       "\n",
       "    .dataframe thead th {\n",
       "        text-align: right;\n",
       "    }\n",
       "</style>\n",
       "<table border=\"1\" class=\"dataframe\">\n",
       "  <thead>\n",
       "    <tr style=\"text-align: right;\">\n",
       "      <th></th>\n",
       "      <th>LocB</th>\n",
       "      <th>LocA</th>\n",
       "    </tr>\n",
       "  </thead>\n",
       "  <tbody>\n",
       "    <tr>\n",
       "      <th>LocB</th>\n",
       "      <td>1.06029</td>\n",
       "      <td>12.624363</td>\n",
       "    </tr>\n",
       "    <tr>\n",
       "      <th>LocA</th>\n",
       "      <td>NaN</td>\n",
       "      <td>1.382429</td>\n",
       "    </tr>\n",
       "  </tbody>\n",
       "</table>\n",
       "</div>"
      ],
      "text/plain": [
       "         LocB       LocA\n",
       "LocB  1.06029  12.624363\n",
       "LocA      NaN   1.382429"
      ]
     },
     "execution_count": 5,
     "metadata": {},
     "output_type": "execute_result"
    }
   ],
   "source": [
    "import pandas as pd \n",
    "\n",
    "lat_sample = pd.DataFrame(DistLocations.get()['latencies'])\n",
    "lat_sample"
   ]
  },
  {
   "cell_type": "code",
   "execution_count": 12,
   "metadata": {},
   "outputs": [
    {
     "data": {
      "text/html": [
       "<div>\n",
       "<style scoped>\n",
       "    .dataframe tbody tr th:only-of-type {\n",
       "        vertical-align: middle;\n",
       "    }\n",
       "\n",
       "    .dataframe tbody tr th {\n",
       "        vertical-align: top;\n",
       "    }\n",
       "\n",
       "    .dataframe thead th {\n",
       "        text-align: right;\n",
       "    }\n",
       "</style>\n",
       "<table border=\"1\" class=\"dataframe\">\n",
       "  <thead>\n",
       "    <tr style=\"text-align: right;\">\n",
       "      <th></th>\n",
       "      <th>LocA</th>\n",
       "      <th>LocB</th>\n",
       "    </tr>\n",
       "  </thead>\n",
       "  <tbody>\n",
       "    <tr>\n",
       "      <th>LocB</th>\n",
       "      <td>10</td>\n",
       "      <td>1.0</td>\n",
       "    </tr>\n",
       "    <tr>\n",
       "      <th>LocA</th>\n",
       "      <td>2</td>\n",
       "      <td>NaN</td>\n",
       "    </tr>\n",
       "  </tbody>\n",
       "</table>\n",
       "</div>"
      ],
      "text/plain": [
       "      LocA  LocB\n",
       "LocB    10   1.0\n",
       "LocA     2   NaN"
      ]
     },
     "execution_count": 12,
     "metadata": {},
     "output_type": "execute_result"
    }
   ],
   "source": [
    "lat_sample = pd.DataFrame(ConstLocations.get()['latencies'])\n",
    "lat_sample"
   ]
  },
  {
   "cell_type": "markdown",
   "metadata": {
    "ExecuteTime": {
     "end_time": "2020-03-16T16:34:34.176798Z",
     "start_time": "2020-03-16T16:34:34.165723Z"
    }
   },
   "source": [
    "*Notice that table has **NaN** values. They will not be automatically filled with symmetric value if not specified.*\n",
    "\n",
    "We can transform the table to fill them up symmetrically. "
   ]
  },
  {
   "cell_type": "code",
   "execution_count": 6,
   "metadata": {
    "ExecuteTime": {
     "end_time": "2020-03-27T09:17:35.940332Z",
     "start_time": "2020-03-27T09:17:35.904410Z"
    }
   },
   "outputs": [
    {
     "data": {
      "text/html": [
       "<div>\n",
       "<style scoped>\n",
       "    .dataframe tbody tr th:only-of-type {\n",
       "        vertical-align: middle;\n",
       "    }\n",
       "\n",
       "    .dataframe tbody tr th {\n",
       "        vertical-align: top;\n",
       "    }\n",
       "\n",
       "    .dataframe thead th {\n",
       "        text-align: right;\n",
       "    }\n",
       "</style>\n",
       "<table border=\"1\" class=\"dataframe\">\n",
       "  <thead>\n",
       "    <tr style=\"text-align: right;\">\n",
       "      <th></th>\n",
       "      <th>LocB</th>\n",
       "      <th>LocA</th>\n",
       "    </tr>\n",
       "  </thead>\n",
       "  <tbody>\n",
       "    <tr>\n",
       "      <th>LocB</th>\n",
       "      <td>1.060290</td>\n",
       "      <td>12.624363</td>\n",
       "    </tr>\n",
       "    <tr>\n",
       "      <th>LocA</th>\n",
       "      <td>12.624363</td>\n",
       "      <td>1.382429</td>\n",
       "    </tr>\n",
       "  </tbody>\n",
       "</table>\n",
       "</div>"
      ],
      "text/plain": [
       "           LocB       LocA\n",
       "LocB   1.060290  12.624363\n",
       "LocA  12.624363   1.382429"
      ]
     },
     "execution_count": 6,
     "metadata": {},
     "output_type": "execute_result"
    }
   ],
   "source": [
    "lat_sample[pd.isnull(lat_sample)] = lat_sample.T[pd.isnull(lat_sample)]\n",
    "lat_sample"
   ]
  },
  {
   "cell_type": "markdown",
   "metadata": {},
   "source": [
    "\n",
    "### Visualizing the data\n",
    "\n",
    "\n",
    " 1. Prepare data: \n",
    "  - Trasfer to pandas dataframe\n",
    "  - Fill null values with the symmetic counter-part\n",
    "  - Transform into list of tuples: 'from', 'to', 'value' \n",
    "  \n",
    " 2. Get 100 samples from the configuration with latencies\n",
    " \n",
    " 3. Visualize in a grid of histograms\n",
    "\n"
   ]
  },
  {
   "cell_type": "code",
   "execution_count": 14,
   "metadata": {
    "ExecuteTime": {
     "end_time": "2020-03-27T09:17:41.570964Z",
     "start_time": "2020-03-27T09:17:35.952523Z"
    }
   },
   "outputs": [
    {
     "data": {
      "image/png": "[encoded data removed]",
      "text/plain": [
       "<Figure size 576x576 with 4 Axes>"
      ]
     },
     "metadata": {},
     "output_type": "display_data"
    }
   ],
   "source": [
    "\n",
    "import matplotlib.pyplot as plt\n",
    "import seaborn as sns\n",
    "sns.set(style='darkgrid')\n",
    "\n",
    "# 1. Data prepare\n",
    "def prepare(x):\n",
    "    x = pd.DataFrame(x)\n",
    "    x[pd.isnull(x)] = x.T[pd.isnull(x)]\n",
    "    return x.stack().reset_index()\\\n",
    "                    .rename(columns={'level_0':'from', 'level_1':'to', 0: 'value'})\n",
    "                    \n",
    "# 2. Get 100 samples\n",
    "df = pd.concat(prepare(DistLocations.get()['latencies']) for _ in range(100))\n",
    "\n",
    "# 3. Visualize in a grid of histograms\n",
    "g = sns.FacetGrid(df, col='to', row='from', height=4, aspect=1)\n",
    "g = g.map(sns.distplot, 'value')\n"
   ]
  },
  {
   "cell_type": "code",
   "execution_count": 15,
   "metadata": {},
   "outputs": [
    {
     "data": {
      "text/html": [
       "<div>\n",
       "<style scoped>\n",
       "    .dataframe tbody tr th:only-of-type {\n",
       "        vertical-align: middle;\n",
       "    }\n",
       "\n",
       "    .dataframe tbody tr th {\n",
       "        vertical-align: top;\n",
       "    }\n",
       "\n",
       "    .dataframe thead th {\n",
       "        text-align: right;\n",
       "    }\n",
       "</style>\n",
       "<table border=\"1\" class=\"dataframe\">\n",
       "  <thead>\n",
       "    <tr style=\"text-align: right;\">\n",
       "      <th></th>\n",
       "      <th>from</th>\n",
       "      <th>to</th>\n",
       "      <th>value</th>\n",
       "    </tr>\n",
       "  </thead>\n",
       "  <tbody>\n",
       "    <tr>\n",
       "      <th>0</th>\n",
       "      <td>LocB</td>\n",
       "      <td>LocB</td>\n",
       "      <td>1.212997</td>\n",
       "    </tr>\n",
       "    <tr>\n",
       "      <th>1</th>\n",
       "      <td>LocB</td>\n",
       "      <td>LocA</td>\n",
       "      <td>13.103357</td>\n",
       "    </tr>\n",
       "    <tr>\n",
       "      <th>2</th>\n",
       "      <td>LocA</td>\n",
       "      <td>LocB</td>\n",
       "      <td>13.103357</td>\n",
       "    </tr>\n",
       "    <tr>\n",
       "      <th>3</th>\n",
       "      <td>LocA</td>\n",
       "      <td>LocA</td>\n",
       "      <td>2.515944</td>\n",
       "    </tr>\n",
       "    <tr>\n",
       "      <th>0</th>\n",
       "      <td>LocB</td>\n",
       "      <td>LocB</td>\n",
       "      <td>3.348063</td>\n",
       "    </tr>\n",
       "    <tr>\n",
       "      <th>...</th>\n",
       "      <td>...</td>\n",
       "      <td>...</td>\n",
       "      <td>...</td>\n",
       "    </tr>\n",
       "    <tr>\n",
       "      <th>3</th>\n",
       "      <td>LocA</td>\n",
       "      <td>LocA</td>\n",
       "      <td>1.942619</td>\n",
       "    </tr>\n",
       "    <tr>\n",
       "      <th>0</th>\n",
       "      <td>LocB</td>\n",
       "      <td>LocB</td>\n",
       "      <td>1.479894</td>\n",
       "    </tr>\n",
       "    <tr>\n",
       "      <th>1</th>\n",
       "      <td>LocB</td>\n",
       "      <td>LocA</td>\n",
       "      <td>14.185219</td>\n",
       "    </tr>\n",
       "    <tr>\n",
       "      <th>2</th>\n",
       "      <td>LocA</td>\n",
       "      <td>LocB</td>\n",
       "      <td>14.185219</td>\n",
       "    </tr>\n",
       "    <tr>\n",
       "      <th>3</th>\n",
       "      <td>LocA</td>\n",
       "      <td>LocA</td>\n",
       "      <td>1.687813</td>\n",
       "    </tr>\n",
       "  </tbody>\n",
       "</table>\n",
       "<p>400 rows × 3 columns</p>\n",
       "</div>"
      ],
      "text/plain": [
       "    from    to      value\n",
       "0   LocB  LocB   1.212997\n",
       "1   LocB  LocA  13.103357\n",
       "2   LocA  LocB  13.103357\n",
       "3   LocA  LocA   2.515944\n",
       "0   LocB  LocB   3.348063\n",
       "..   ...   ...        ...\n",
       "3   LocA  LocA   1.942619\n",
       "0   LocB  LocB   1.479894\n",
       "1   LocB  LocA  14.185219\n",
       "2   LocA  LocB  14.185219\n",
       "3   LocA  LocA   1.687813\n",
       "\n",
       "[400 rows x 3 columns]"
      ]
     },
     "execution_count": 15,
     "metadata": {},
     "output_type": "execute_result"
    }
   ],
   "source": [
    "df"
   ]
  },
  {
   "cell_type": "markdown",
   "metadata": {},
   "source": [
    "The visulations shows the latency matrix for our two locations. "
   ]
  },
  {
   "cell_type": "markdown",
   "metadata": {},
   "source": [
    "----\n",
    "## Peers and Topologies \n",
    "\n",
    "Usually when designing your own system, the architect should think about the network topology: *How are peers connected to each other?*. \n",
    "\n",
    "\n",
    "Simulation can work in two modes: \n",
    "\n",
    "1. **NetworkX**. You know what topology you want to simulate, pass a network topology to the simulation.\n",
    "\n",
    "2. **Emergent**. Peers connect to each other without a pre-defined topology. A certain topology emerges through local rules, for example, peers connect with each other through the bootstrap peers and exchange data with each other. Typically, unstructured topologies of a peer-to-peer network fall in this category. You can read more [here](https://en.wikipedia.org/wiki/Bootstrapping_node), or  read how [Bitcoin network](https://en.bitcoin.it/wiki/Network) is formed.  \n",
    "\n",
    "\n",
    "### Networkx topology\n",
    "\n",
    "Let's first see how we can form a network topology.\n"
   ]
  },
  {
   "cell_type": "code",
   "execution_count": 8,
   "metadata": {
    "ExecuteTime": {
     "end_time": "2020-03-27T09:17:43.066290Z",
     "start_time": "2020-03-27T09:17:41.577831Z"
    },
    "recordTiming": true
   },
   "outputs": [
    {
     "data": {
      "image/png": "[encoded data removed]",
      "text/plain": [
       "<Figure size 432x288 with 1 Axes>"
      ]
     },
     "metadata": {},
     "output_type": "display_data"
    }
   ],
   "source": [
    "import networkx as nx\n",
    "\n",
    "peer_num = 10\n",
    "\n",
    "# Generate a random network network topology \n",
    "G = nx.erdos_renyi_graph(10, 0.5)\n",
    "\n",
    "# Assign a peer type to the peers with a type. Type if later used to tell which services to run.\n",
    "nx.set_node_attributes(G, {k: 'basic' for k in G.nodes()}, 'type')\n",
    "\n",
    "sns.set(style='dark')\n",
    "nx.draw_networkx(G)\n"
   ]
  },
  {
   "cell_type": "markdown",
   "metadata": {},
   "source": [
    "NetworkX is a library with rich semantics to work with graphs. You can read more [here](https://networkx.github.io/documentation/stable/reference/generators.html).  \n",
    "\n",
    "You can choose any graph, generate them and put `type` as node attributes. `type` is a name for the peer type. We will explain later on how it will be used in a simulation.  \n",
    "\n",
    "\n",
    "\n",
    "### Emergent topology\n",
    "\n",
    "What if topology is not known?\n",
    "\n",
    "In this case we can model the peer discovery mechanism through *bootstrapping* peers. The general bootstrap process is the following: \n",
    "1. Bootstrap nodes are first created and introduced to the network. The goal of bootstrap nodes is to maintain list of peers and connect them with each other upon request. Bootstrap nodes are usually known in advance, for example, hardcoded in the supplied code. \n",
    "2. The bootstrap procedure is as follows: a) new peer joins the network, b) peer sends a `Hello` message to one of bootstrap nodes, c) a bootstrap node responds to the peer with a random sample of known online peers. \n",
    "3. The peer connect with other peers from the given sample list.\n",
    "\n",
    "\n",
    "To run default bootstrap you should pass as a parameter `topology`, a dictionary with type `peer_id` -> {`type`: type_name}\n",
    "This is all abstracted in simulation, but you can specify your own bootstrap logic later. \n",
    "\n",
    "\n",
    "<!-- ### Explain more\n",
    "\n",
    "Discovery  -->"
   ]
  },
  {
   "cell_type": "markdown",
   "metadata": {},
   "source": [
    "-------\n",
    "## Peer types and services\n",
    "\n",
    "Finally, our simulation needs messages and service to process these messages. In `p2psimpy` we model it through Manager Classes and `PeerType`.\n",
    "\n",
    "Below we show an example of a simple map with one type of the peer: `basic`: \n",
    "\n",
    "- Peer is described with a `PeerType(PeerConfig, services)`. \n",
    "    - `PeerConfig` describes a physical capacities of the node: bandwidth for the messages that go through (upload and download) and location (one the specified before)\n",
    "    - `services` is a list of service that peer should run. There some standard services that you can use in your simulation. But you will also implement your own later!\n",
    "- Minimally peer should have at least a connection service to connect to the network and respond to the introduction messages. These are the standard connection services available for you: \n",
    "  - `BaseConnectionManager`: a simple connection service that can connect, ping other peers and disconnect unresponsive peers. This is the recommended service for a **Networkx** topology approach.  \n",
    "  - `P2PConnectionManager`: an extended BaseConnectionManger that additionally keeps the number of connections between specified `min_peers` and `max_peers`. If the number of local connections is lower than `min_peers`, service will actievly pool and ask other peers for new connection. If the number of local connections is higher than `max_peers`, service will refuse all new connection and disconnect the slowest peers. This is a recommended service for an **Emergent** topology approach. \n",
    "\n",
    "Let's see how it looks in code:\n"
   ]
  },
  {
   "cell_type": "code",
   "execution_count": 9,
   "metadata": {
    "ExecuteTime": {
     "end_time": "2020-03-27T09:17:43.208204Z",
     "start_time": "2020-03-27T09:17:43.085495Z"
    }
   },
   "outputs": [],
   "source": [
    "from p2psimpy.config import *\n",
    "from p2psimpy.consts import *\n",
    "    \n",
    "class PeerConfig(Config):\n",
    "    # Location of the peer - random location from the locations specified earlier \n",
    "    location = Dist('sample', DistLocations.locations)\n",
    "    # Bandwidth is normally distributed with average of 50 and var 10 Mbit\n",
    "    bandwidth_ul = Dist( 'norm', (50*MBit, 10*MBit))\n",
    "    bandwidth_dl = Dist( 'norm', (50*MBit, 10*MBit))\n",
    "\n",
    "# Let's add ConnectionManager - that will periodically ping neighbours and check if they are online.\n",
    "# We use BaseConnectionManager - that will periodically ping peer and disconnect unresponsive peers.\n",
    "from p2psimpy.services.connection_manager import BaseConnectionManager\n",
    "\n",
    "services = (BaseConnectionManager,)\n",
    "# We have on peer role: basic\n",
    "peer_types = {'basic': PeerType(PeerConfig, services)}"
   ]
  },
  {
   "cell_type": "markdown",
   "metadata": {},
   "source": [
    "How to use these configurations? Configs are used to get value. \n",
    "They work as generators and attribute descriptors.  "
   ]
  },
  {
   "cell_type": "markdown",
   "metadata": {},
   "source": [
    "----"
   ]
  },
  {
   "cell_type": "markdown",
   "metadata": {},
   "source": [
    "# Putting it all together\n",
    "\n",
    "\n",
    "Let's combine all you learned so far to run a simple simulation:\n",
    "\n",
    "1. Define locations and simulation world parameters.\n",
    "2. Define topology and number of peers with their types.  \n",
    "3. Define what each peer type is with a `PeerConfig` and what it does with services. \n",
    "\n",
    "\n",
    "After we defined all this we can create a simulation object and run it with `.run(time)`.\n",
    "\n",
    "Simulation has it's internal clock and scheduler for all events. The parameter `time` is a time until which the simulation is run. \n",
    "\n",
    "\n",
    "***The time is defined in milliseconds**!\n",
    "\n",
    "\n",
    "\n"
   ]
  },
  {
   "cell_type": "markdown",
   "metadata": {
    "ExecuteTime": {
     "end_time": "2020-03-11T09:50:33.374122Z",
     "start_time": "2020-03-11T09:50:33.347834Z"
    }
   },
   "source": [
    "## Random given topology \n",
    "\n",
    "Let us first try out with a random given topology generated as a networkx graph"
   ]
  },
  {
   "cell_type": "code",
   "execution_count": 17,
   "metadata": {
    "ExecuteTime": {
     "end_time": "2020-03-27T09:17:43.889018Z",
     "start_time": "2020-03-27T09:17:43.214432Z"
    }
   },
   "outputs": [
    {
     "data": {
      "image/png": "[encoded data removed]",
      "text/plain": [
       "<Figure size 432x288 with 1 Axes>"
      ]
     },
     "metadata": {},
     "output_type": "display_data"
    }
   ],
   "source": [
    "from p2psimpy.config import *\n",
    "from p2psimpy.consts import *\n",
    "import networkx as nx\n",
    "\n",
    "class Locations(Config):\n",
    "    locations = ['LocA', 'LocB']\n",
    "    latencies = {\n",
    "        'LocB': {'LocB': Dist('gamma', (1, 1, 1))},\n",
    "        'LocA': {'LocB': Dist('norm', (12, 2)), 'LocA': Dist('norm', (2, 0.5))},\n",
    "    } \n",
    "\n",
    "# Number of nodes\n",
    "N = 10\n",
    "    \n",
    "# Generate network topology \n",
    "G = nx.erdos_renyi_graph(N, 0.5)\n",
    "# Assign a peer type to the peers \n",
    "nx.set_node_attributes(G, {k: 'basic' for k in G.nodes()}, 'type')\n",
    "\n",
    "class PeerConfig(Config):\n",
    "    location = Dist('sample', Locations.locations)\n",
    "    bandwidth_ul = Dist( 'norm', (50*MBit, 10*MBit))\n",
    "    bandwidth_dl = Dist( 'norm', (50*MBit, 10*MBit))\n",
    "\n",
    "# Let's add ConnectionManager - that will periodically ping neighbours and check if they are online \n",
    "from p2psimpy.services.connection_manager import BaseConnectionManager\n",
    "# For each service you can define own configuration, or use default values.   \n",
    "# Lets use base connection manager - that will periodically ping peer and disconnect unresponsive peers.\n",
    "\n",
    "services = (BaseConnectionManager,)\n",
    "peer_types = {'basic': PeerType(PeerConfig, services)}\n",
    "\n",
    "# Display the topology \n",
    "nx.draw_networkx(G)"
   ]
  },
  {
   "cell_type": "code",
   "execution_count": 18,
   "metadata": {
    "ExecuteTime": {
     "end_time": "2020-03-27T09:17:44.329539Z",
     "start_time": "2020-03-27T09:17:43.895337Z"
    }
   },
   "outputs": [],
   "source": [
    "from p2psimpy.simulation import BaseSimulation\n",
    "\n",
    "# Create BaseSimulation with enabled logger and save in the logs directory. \n",
    "sim = BaseSimulation(Locations, G, peer_types, enable_logger=True, logger_dir='logs')\n",
    "\n",
    "# Let's run the simulation for 5 seconds\n",
    "sim.run(5_000)"
   ]
  },
  {
   "cell_type": "markdown",
   "metadata": {
    "ExecuteTime": {
     "end_time": "2020-03-17T12:40:15.632268Z",
     "start_time": "2020-03-17T12:40:15.613568Z"
    }
   },
   "source": [
    "----------------------------\n",
    "\n",
    "What's next? There is no output.\n",
    "\n",
    "We run the simulator with logger enabled to see the all the messages exchanged in the network. \n",
    "\n",
    "The output is written to the logs in `\\logs` directory. Let's see what is the output. \n",
    "Each peer writes its own log with events happening like received message, connecting to a peer etc. \n",
    "\n",
    "For example, here is the log of peer 1:"
   ]
  },
  {
   "cell_type": "code",
   "execution_count": 19,
   "metadata": {
    "ExecuteTime": {
     "end_time": "2020-03-27T09:17:44.413024Z",
     "start_time": "2020-03-27T09:17:44.345639Z"
    }
   },
   "outputs": [
    {
     "name": "stdout",
     "output_type": "stream",
     "text": [
      "Peer_1:basic INFO 4.098946728427548: Received message <Hello:> from Peer_7:basic\n",
      "Peer_1:basic INFO 4.098946728427548: Connecting to Peer_7:basic\n",
      "Peer_1:basic INFO 4.098946728427548: Sending message <Hello:> to Peer_7:basic\n",
      "Peer_1:basic INFO 5.483452135371824: Connecting to Peer_2:basic\n",
      "Peer_1:basic INFO 5.738350179530698: Connecting to Peer_5:basic\n",
      "Peer_1:basic INFO 5.966181502323896: Received message <Hello:> from Peer_5:basic\n",
      "Peer_1:basic INFO 6.340935893871988: Received message <Hello:> from Peer_2:basic\n",
      "Peer_1:basic INFO 6.462395218023364: Connecting to Peer_6:basic\n",
      "Peer_1:basic INFO 6.542328451037729: Received message <Hello:> from Peer_9:basic\n",
      "Peer_1:basic INFO 6.542328451037729: Connecting to Peer_9:basic\n",
      "Peer_1:basic INFO 6.542328451037729: Sending message <Hello:> to Peer_9:basic\n",
      "Peer_1:basic INFO 6.962921081186253: Connecting to Peer_4:basic\n",
      "Peer_1:basic INFO 8.224461940682247: Received message <Hello:> from Peer_6:basic\n",
      "Peer_1:basic INFO 8.559262064512836: Received message <Hello:> from Peer_4:basic\n",
      "Peer_1:basic INFO 11.32684379765715: Received message <Hello:> from Peer_5:basic\n",
      "Peer_1:basic INFO 11.378967715256469: Received message <Hello:> from Peer_2:basic\n",
      "Peer_1:basic INFO 12.321759442499541: Received message <Hello:> from Peer_6:basic\n",
      "Peer_1:basic INFO 12.79608834572925: Received message <Hello:> from Peer_4:basic\n",
      "Peer_1:basic INFO 1000: Sending message <Ping:> to Peer_7:basic\n",
      "Peer_1:basic INFO 1000: Sending message <Ping:> to Peer_2:basic\n",
      "Peer_1:basic INFO 1000: Sending message <Ping:> to Peer_5:basic\n",
      "Peer_1:basic INFO 1000: Sending message <Ping:> to Peer_6:basic\n",
      "Peer_1:basic INFO 1000: Sending message <Ping:> to Peer_9:basic\n",
      "Peer_1:basic INFO 1000: Sending message <Ping:> to Peer_4:basic\n",
      "Peer_1:basic INFO 1004.5773847751653: Received message <Ping:> from Peer_4:basic\n",
      "Peer_1:basic INFO 1004.5773847751653: Sending message <Pong:> to Peer_4:basic\n",
      "Peer_1:basic INFO 1004.741326121103: Received message <Ping:> from Peer_6:basic\n",
      "Peer_1:basic INFO 1004.741326121103: Sending message <Pong:> to Peer_6:basic\n",
      "Peer_1:basic INFO 1004.749667044534: Received message <Ping:> from Peer_7:basic\n",
      "Peer_1:basic INFO 1004.749667044534: Sending message <Pong:> to Peer_7:basic\n",
      "Peer_1:basic INFO 1005.3178721668112: Received message <Ping:> from Peer_2:basic\n",
      "Peer_1:basic INFO 1005.3178721668112: Sending message <Pong:> to Peer_2:basic\n",
      "Peer_1:basic INFO 1005.8764248916365: Received message <Ping:> from Peer_9:basic\n",
      "Peer_1:basic INFO 1005.8764248916365: Sending message <Pong:> to Peer_9:basic\n",
      "Peer_1:basic INFO 1006.4746050561719: Received message <Ping:> from Peer_5:basic\n",
      "Peer_1:basic INFO 1006.4746050561719: Sending message <Pong:> to Peer_5:basic\n",
      "Peer_1:basic INFO 1011.7985264503963: Received message <Pong:> from Peer_6:basic\n",
      "Peer_1:basic INFO 1011.9823763370405: Received message <Pong:> from Peer_9:basic\n",
      "Peer_1:basic INFO 1012.3252147086256: Received message <Pong:> from Peer_4:basic\n",
      "Peer_1:basic INFO 1012.3801570139536: Received message <Pong:> from Peer_2:basic\n",
      "Peer_1:basic INFO 1012.7717730479137: Received message <Pong:> from Peer_7:basic\n",
      "Peer_1:basic INFO 1013.4425782895115: Received message <Pong:> from Peer_5:basic\n",
      "Peer_1:basic INFO 2000: Sending message <Ping:> to Peer_7:basic\n",
      "Peer_1:basic INFO 2000: Sending message <Ping:> to Peer_2:basic\n",
      "Peer_1:basic INFO 2000: Sending message <Ping:> to Peer_5:basic\n",
      "Peer_1:basic INFO 2000: Sending message <Ping:> to Peer_6:basic\n",
      "Peer_1:basic INFO 2000: Sending message <Ping:> to Peer_9:basic\n",
      "Peer_1:basic INFO 2000: Sending message <Ping:> to Peer_4:basic\n",
      "Peer_1:basic INFO 2004.4287260480814: Received message <Ping:> from Peer_7:basic\n",
      "Peer_1:basic INFO 2004.4287260480814: Sending message <Pong:> to Peer_7:basic\n",
      "Peer_1:basic INFO 2004.6730311319143: Received message <Ping:> from Peer_4:basic\n",
      "Peer_1:basic INFO 2004.6730311319143: Sending message <Pong:> to Peer_4:basic\n",
      "Peer_1:basic INFO 2005.3800374402044: Received message <Ping:> from Peer_6:basic\n",
      "Peer_1:basic INFO 2005.3800374402044: Sending message <Pong:> to Peer_6:basic\n",
      "Peer_1:basic INFO 2005.5092408979638: Received message <Ping:> from Peer_5:basic\n",
      "Peer_1:basic INFO 2005.5092408979638: Sending message <Pong:> to Peer_5:basic\n",
      "Peer_1:basic INFO 2006.0171375652722: Received message <Ping:> from Peer_9:basic\n",
      "Peer_1:basic INFO 2006.0171375652722: Sending message <Pong:> to Peer_9:basic\n",
      "Peer_1:basic INFO 2006.111324003431: Received message <Ping:> from Peer_2:basic\n",
      "Peer_1:basic INFO 2006.111324003431: Sending message <Pong:> to Peer_2:basic\n",
      "Peer_1:basic INFO 2011.2360679664225: Received message <Pong:> from Peer_2:basic\n",
      "Peer_1:basic INFO 2011.4261685813942: Received message <Pong:> from Peer_6:basic\n",
      "Peer_1:basic INFO 2012.1306030019405: Received message <Pong:> from Peer_7:basic\n",
      "Peer_1:basic INFO 2012.2123085972037: Received message <Pong:> from Peer_4:basic\n",
      "Peer_1:basic INFO 2012.5918001051261: Received message <Pong:> from Peer_5:basic\n",
      "Peer_1:basic INFO 2014.548711740608: Received message <Pong:> from Peer_9:basic\n",
      "Peer_1:basic INFO 3000: Sending message <Ping:> to Peer_7:basic\n",
      "Peer_1:basic INFO 3000: Sending message <Ping:> to Peer_2:basic\n",
      "Peer_1:basic INFO 3000: Sending message <Ping:> to Peer_5:basic\n",
      "Peer_1:basic INFO 3000: Sending message <Ping:> to Peer_6:basic\n",
      "Peer_1:basic INFO 3000: Sending message <Ping:> to Peer_9:basic\n",
      "Peer_1:basic INFO 3000: Sending message <Ping:> to Peer_4:basic\n",
      "Peer_1:basic INFO 3005.241188883775: Received message <Ping:> from Peer_5:basic\n",
      "Peer_1:basic INFO 3005.241188883775: Sending message <Pong:> to Peer_5:basic\n",
      "Peer_1:basic INFO 3005.5213539202796: Received message <Ping:> from Peer_2:basic\n",
      "Peer_1:basic INFO 3005.5213539202796: Sending message <Pong:> to Peer_2:basic\n",
      "Peer_1:basic INFO 3005.8955115310114: Received message <Ping:> from Peer_6:basic\n",
      "Peer_1:basic INFO 3005.8955115310114: Sending message <Pong:> to Peer_6:basic\n",
      "Peer_1:basic INFO 3006.545337603994: Received message <Ping:> from Peer_7:basic\n",
      "Peer_1:basic INFO 3006.545337603994: Sending message <Pong:> to Peer_7:basic\n",
      "Peer_1:basic INFO 3006.803113196613: Received message <Ping:> from Peer_9:basic\n",
      "Peer_1:basic INFO 3006.803113196613: Sending message <Pong:> to Peer_9:basic\n",
      "Peer_1:basic INFO 3006.909446433959: Received message <Ping:> from Peer_4:basic\n",
      "Peer_1:basic INFO 3006.909446433959: Sending message <Pong:> to Peer_4:basic\n",
      "Peer_1:basic INFO 3011.2093917043217: Received message <Pong:> from Peer_5:basic\n",
      "Peer_1:basic INFO 3012.1822311098153: Received message <Pong:> from Peer_7:basic\n",
      "Peer_1:basic INFO 3012.5234399257865: Received message <Pong:> from Peer_6:basic\n",
      "Peer_1:basic INFO 3012.5894887525415: Received message <Pong:> from Peer_2:basic\n",
      "Peer_1:basic INFO 3012.7557550924907: Received message <Pong:> from Peer_4:basic\n",
      "Peer_1:basic INFO 3014.2841104787476: Received message <Pong:> from Peer_9:basic\n",
      "Peer_1:basic INFO 4000: Sending message <Ping:> to Peer_7:basic\n",
      "Peer_1:basic INFO 4000: Sending message <Ping:> to Peer_2:basic\n",
      "Peer_1:basic INFO 4000: Sending message <Ping:> to Peer_5:basic\n",
      "Peer_1:basic INFO 4000: Sending message <Ping:> to Peer_6:basic\n",
      "Peer_1:basic INFO 4000: Sending message <Ping:> to Peer_9:basic\n",
      "Peer_1:basic INFO 4000: Sending message <Ping:> to Peer_4:basic\n",
      "Peer_1:basic INFO 4005.101477698086: Received message <Ping:> from Peer_5:basic\n",
      "Peer_1:basic INFO 4005.101477698086: Sending message <Pong:> to Peer_5:basic\n",
      "Peer_1:basic INFO 4005.7845615638325: Received message <Ping:> from Peer_4:basic\n",
      "Peer_1:basic INFO 4005.7845615638325: Sending message <Pong:> to Peer_4:basic\n",
      "Peer_1:basic INFO 4006.100133072516: Received message <Ping:> from Peer_9:basic\n",
      "Peer_1:basic INFO 4006.100133072516: Sending message <Pong:> to Peer_9:basic\n",
      "Peer_1:basic INFO 4006.1958098594077: Received message <Ping:> from Peer_7:basic\n",
      "Peer_1:basic INFO 4006.1958098594077: Sending message <Pong:> to Peer_7:basic\n",
      "Peer_1:basic INFO 4006.3450202629515: Received message <Ping:> from Peer_2:basic\n",
      "Peer_1:basic INFO 4006.3450202629515: Sending message <Pong:> to Peer_2:basic\n",
      "Peer_1:basic INFO 4007.005004718696: Received message <Ping:> from Peer_6:basic\n",
      "Peer_1:basic INFO 4007.005004718696: Sending message <Pong:> to Peer_6:basic\n",
      "Peer_1:basic INFO 4009.04824105879: Received message <Pong:> from Peer_5:basic\n",
      "Peer_1:basic INFO 4010.4102161682886: Received message <Pong:> from Peer_7:basic\n",
      "Peer_1:basic INFO 4011.7908297962836: Received message <Pong:> from Peer_9:basic\n",
      "Peer_1:basic INFO 4012.1738956471763: Received message <Pong:> from Peer_4:basic\n",
      "Peer_1:basic INFO 4012.782095882772: Received message <Pong:> from Peer_2:basic\n",
      "Peer_1:basic INFO 4012.9946746031505: Received message <Pong:> from Peer_6:basic\n",
      "\n"
     ]
    }
   ],
   "source": [
    "with open('logs/Peer_1:basic.log') as s:\n",
    "    print(s.read())"
   ]
  },
  {
   "cell_type": "markdown",
   "metadata": {},
   "source": [
    "## Emergent topology\n",
    "\n",
    "Now let's try an emergent topology, we will use the same configuration, but use bootstrap peer for discovery and building a network. For the connection manager we will use `P2PConnectionManager`.  \n"
   ]
  },
  {
   "cell_type": "code",
   "execution_count": 24,
   "metadata": {
    "ExecuteTime": {
     "end_time": "2020-03-27T09:17:44.430653Z",
     "start_time": "2020-03-27T09:17:44.415134Z"
    }
   },
   "outputs": [],
   "source": [
    "from p2psimpy.services.connection_manager import P2PConnectionManager\n",
    "\n",
    "num_peers = 10\n",
    "\n",
    "topology_specs = {i:{'type': 'basic'} for i in range(1, num_peers+1)}\n",
    "\n",
    "class ConnectionConfig(Config):\n",
    "    min_peers = 4\n",
    "    max_peers = 8\n",
    "\n",
    "peer_types = {'basic': PeerType(PeerConfig, {P2PConnectionManager: ConnectionConfig})}\n"
   ]
  },
  {
   "cell_type": "code",
   "execution_count": 21,
   "metadata": {
    "ExecuteTime": {
     "end_time": "2020-03-27T09:17:44.729428Z",
     "start_time": "2020-03-27T09:17:44.442513Z"
    }
   },
   "outputs": [],
   "source": [
    "sim = BaseSimulation(Locations, topology_specs, peer_types, logger_dir='logs2')\n",
    "\n",
    "# Let's run the simulation for 5 seconds\n",
    "sim.run(5_000)"
   ]
  },
  {
   "cell_type": "markdown",
   "metadata": {},
   "source": [
    "#### The peers form themselves a random topology"
   ]
  },
  {
   "cell_type": "code",
   "execution_count": 22,
   "metadata": {
    "ExecuteTime": {
     "end_time": "2020-03-27T09:17:46.596898Z",
     "start_time": "2020-03-27T09:17:44.765123Z"
    }
   },
   "outputs": [
    {
     "data": {
      "image/png": "[encoded data removed]",
      "text/plain": [
       "<Figure size 432x288 with 1 Axes>"
      ]
     },
     "metadata": {},
     "output_type": "display_data"
    }
   ],
   "source": [
    "G1 = sim.get_graph()\n",
    "nx.draw_networkx(G1)"
   ]
  },
  {
   "cell_type": "code",
   "execution_count": 23,
   "metadata": {
    "ExecuteTime": {
     "end_time": "2020-03-27T09:17:46.609528Z",
     "start_time": "2020-03-27T09:17:46.600756Z"
    }
   },
   "outputs": [
    {
     "name": "stdout",
     "output_type": "stream",
     "text": [
      "Peer_1:basic WARNING 0: Not enough peers, fetching more (0, 4)\n",
      "Peer_1:basic INFO 5.240629785780368: Connecting to Peer_11:bootstrap\n",
      "Peer_1:basic INFO 10.051413004520715: Received message <Hello:> from Peer_11:bootstrap\n",
      "Peer_1:basic INFO 11.327654526185153: Received message <RequestPeers:> from Peer_11:bootstrap\n",
      "Peer_1:basic INFO 11.327654526185153: Sending message <PeerList> to Peer_11:bootstrap\n",
      "Peer_1:basic WARNING 500: Not enough peers, fetching more (1, 4)\n",
      "Peer_1:basic INFO 500: Sending message <RequestPeers:> to Peer_11:bootstrap\n",
      "Peer_1:basic INFO 508.7030425395404: Received message <RequestPeers:> from Peer_11:bootstrap\n",
      "Peer_1:basic INFO 508.7030425395404: Sending message <PeerList> to Peer_11:bootstrap\n",
      "Peer_1:basic INFO 512.697485830621: Received message <PeerList> from Peer_11:bootstrap\n",
      "Peer_1:basic WARNING 1000: Not enough peers, fetching more (1, 4)\n",
      "Peer_1:basic INFO 1000: Sending message <RequestPeers:> to Peer_11:bootstrap\n",
      "Peer_1:basic INFO 1005.3072044842181: Connecting to Peer_3:basic\n",
      "Peer_1:basic INFO 1010.717428887825: Received message <Hello:> from Peer_3:basic\n",
      "Peer_1:basic INFO 1012.2901527877999: Received message <RequestPeers:> from Peer_3:basic\n",
      "Peer_1:basic INFO 1012.2901527877999: Sending message <PeerList> to Peer_3:basic\n",
      "Peer_1:basic INFO 1013.6914962140561: Received message <PeerList> from Peer_11:bootstrap\n",
      "Peer_1:basic WARNING 1500: Not enough peers, fetching more (2, 4)\n",
      "Peer_1:basic INFO 1500: Sending message <RequestPeers:> to Peer_3:basic\n",
      "Peer_1:basic INFO 1500: Sending message <RequestPeers:> to Peer_11:bootstrap\n",
      "Peer_1:basic INFO 1510.7904573094845: Received message <PeerList> from Peer_3:basic\n",
      "Peer_1:basic INFO 1512.8897485953544: Received message <PeerList> from Peer_11:bootstrap\n",
      "Peer_1:basic WARNING 2000: Not enough peers, fetching more (2, 4)\n",
      "Peer_1:basic INFO 2000: Sending message <RequestPeers:> to Peer_11:bootstrap\n",
      "Peer_1:basic INFO 2000: Sending message <RequestPeers:> to Peer_3:basic\n",
      "Peer_1:basic INFO 2001.1233531377381: Connecting to Peer_4:basic\n",
      "Peer_1:basic INFO 2002.2671963732432: Received message <RequestPeers:> from Peer_4:basic\n",
      "Peer_1:basic INFO 2002.2671963732432: Sending message <PeerList> to Peer_4:basic\n",
      "Peer_1:basic INFO 2002.4440422592518: Received message <Hello:> from Peer_4:basic\n",
      "Peer_1:basic INFO 2004.404822617351: Received message <RequestPeers:> from Peer_11:bootstrap\n",
      "Peer_1:basic INFO 2004.404822617351: Sending message <PeerList> to Peer_11:bootstrap\n",
      "Peer_1:basic INFO 2012.9802659517104: Received message <PeerList> from Peer_11:bootstrap\n",
      "Peer_1:basic INFO 2014.2409602115172: Received message <PeerList> from Peer_3:basic\n",
      "Peer_1:basic WARNING 2500: Not enough peers, fetching more (3, 4)\n",
      "Peer_1:basic INFO 2500: Sending message <RequestPeers:> to Peer_4:basic\n",
      "Peer_1:basic INFO 2500: Sending message <RequestPeers:> to Peer_11:bootstrap\n",
      "Peer_1:basic INFO 2500: Sending message <RequestPeers:> to Peer_3:basic\n",
      "Peer_1:basic INFO 2503.160797356821: Received message <PeerList> from Peer_4:basic\n",
      "Peer_1:basic INFO 2505.10119499977: Received message <RequestPeers:> from Peer_11:bootstrap\n",
      "Peer_1:basic INFO 2505.10119499977: Sending message <PeerList> to Peer_11:bootstrap\n",
      "Peer_1:basic INFO 2510.817468434369: Received message <PeerList> from Peer_11:bootstrap\n",
      "Peer_1:basic INFO 2510.923017239243: Received message <PeerList> from Peer_3:basic\n",
      "Peer_1:basic WARNING 3000: Not enough peers, fetching more (3, 4)\n",
      "Peer_1:basic INFO 3004.7641139418815: Received message <RequestPeers:> from Peer_11:bootstrap\n",
      "Peer_1:basic INFO 3004.7641139418815: Sending message <PeerList> to Peer_11:bootstrap\n",
      "Peer_1:basic INFO 3005.944754386278: Connecting to Peer_6:basic\n",
      "Peer_1:basic INFO 3011.865677205731: Received message <Hello:> from Peer_6:basic\n",
      "Peer_1:basic INFO 3011.888118521653: Received message <RequestPeers:> from Peer_6:basic\n",
      "Peer_1:basic INFO 3011.888118521653: Sending message <PeerList> to Peer_6:basic\n",
      "Peer_1:basic INFO 3500: Sending message <Ping:> to Peer_3:basic\n",
      "Peer_1:basic INFO 3500: Sending message <Ping:> to Peer_4:basic\n",
      "Peer_1:basic INFO 3501.3594283683924: Received message <Pong:> from Peer_4:basic\n",
      "Peer_1:basic INFO 3501.4703312036595: Received message <Ping:> from Peer_4:basic\n",
      "Peer_1:basic INFO 3501.4703312036595: Sending message <Pong:> to Peer_4:basic\n",
      "Peer_1:basic INFO 3504.550963099665: Received message <Ping:> from Peer_3:basic\n",
      "Peer_1:basic INFO 3504.550963099665: Sending message <Pong:> to Peer_3:basic\n",
      "Peer_1:basic INFO 3512.4555498099903: Received message <Pong:> from Peer_3:basic\n",
      "Peer_1:basic INFO 4000: Sending message <Ping:> to Peer_11:bootstrap\n",
      "Peer_1:basic INFO 4000: Sending message <Ping:> to Peer_6:basic\n",
      "Peer_1:basic INFO 4005.221619985014: Received message <Ping:> from Peer_11:bootstrap\n",
      "Peer_1:basic INFO 4005.221619985014: Sending message <Pong:> to Peer_11:bootstrap\n",
      "Peer_1:basic INFO 4006.2340055517175: Received message <RequestPeers:> from Peer_11:bootstrap\n",
      "Peer_1:basic INFO 4006.2340055517175: Sending message <PeerList> to Peer_11:bootstrap\n",
      "Peer_1:basic INFO 4006.7526812274737: Received message <Ping:> from Peer_6:basic\n",
      "Peer_1:basic INFO 4006.7526812274737: Sending message <Pong:> to Peer_6:basic\n",
      "Peer_1:basic INFO 4011.457633487545: Received message <Pong:> from Peer_6:basic\n",
      "Peer_1:basic INFO 4014.8413948171715: Received message <Pong:> from Peer_11:bootstrap\n",
      "Peer_1:basic INFO 4500: Sending message <Ping:> to Peer_3:basic\n",
      "Peer_1:basic INFO 4500: Sending message <Ping:> to Peer_4:basic\n",
      "Peer_1:basic INFO 4500.5372732630485: Received message <Ping:> from Peer_4:basic\n",
      "Peer_1:basic INFO 4500.5372732630485: Sending message <Pong:> to Peer_4:basic\n",
      "Peer_1:basic INFO 4502.861405801456: Received message <Pong:> from Peer_4:basic\n",
      "Peer_1:basic INFO 4504.240836545882: Received message <Ping:> from Peer_3:basic\n",
      "Peer_1:basic INFO 4504.240836545882: Sending message <Pong:> to Peer_3:basic\n",
      "Peer_1:basic INFO 4510.740802874046: Received message <Pong:> from Peer_3:basic\n",
      "\n"
     ]
    }
   ],
   "source": [
    "with open('logs2/Peer_1:basic.log') as s:\n",
    "    print(s.read())"
   ]
  },
  {
   "cell_type": "markdown",
   "metadata": {},
   "source": [
    "------------------\n",
    "\n",
    "Now you get how to work a simulation, in the next notebook we will take a look into services and implement our own.  \n"
   ]
  },
  {
   "cell_type": "markdown",
   "metadata": {},
   "source": [
    "## Your experiments here \n",
    "\n",
    "\n",
    "1. Change the latency between the locations and look at the logs.  \n",
    "2. Change the rules for the discovery\n",
    "\n"
   ]
  },
  {
   "cell_type": "markdown",
   "metadata": {},
   "source": [
    "### Change the latency between the locations and look at the logs.  "
   ]
  },
  {
   "cell_type": "code",
   "execution_count": 49,
   "metadata": {},
   "outputs": [],
   "source": [
    "# Added a distant node C with high latency\n",
    "\n",
    "class Locations2(Config):\n",
    "    locations = ['LocA', 'LocB', 'LocC']\n",
    "    latencies = {\n",
    "        'LocB': {'LocB': Dist('gamma', (1, 1, 1))},\n",
    "        'LocA': {'LocB': Dist('norm', (12, 2)), 'LocA': Dist('norm', (2, 0.5)), },\n",
    "        'LocC': {'LocB': Dist('norm', (100, 2)), 'LocA': Dist('norm', (50, 2)), 'LocC': 1},\n",
    "    } "
   ]
  },
  {
   "cell_type": "code",
   "execution_count": 50,
   "metadata": {},
   "outputs": [
    {
     "data": {
      "image/png": "[encoded data removed]",
      "text/plain": [
       "<Figure size 432x288 with 1 Axes>"
      ]
     },
     "metadata": {},
     "output_type": "display_data"
    }
   ],
   "source": [
    "num_peers = 10\n",
    "\n",
    "topology_specs = {i:{'type': 'basic'} for i in range(1, num_peers+1)}\n",
    "\n",
    "class PeerConfig2(Config):\n",
    "    location = Dist('sample', Locations2.locations)\n",
    "    bandwidth_ul = Dist( 'norm', (50*MBit, 10*MBit))\n",
    "    bandwidth_dl = Dist( 'norm', (50*MBit, 10*MBit))\n",
    "\n",
    "class ConnectionConfig(Config):\n",
    "    min_peers = 4\n",
    "    max_peers = 8\n",
    "\n",
    "peer_types = {'basic': PeerType(PeerConfig2, {P2PConnectionManager: ConnectionConfig})}\n",
    "sim = BaseSimulation(Locations2, topology_specs, peer_types, logger_dir='logs3')\n",
    "\n",
    "sim.run(5_000)\n",
    "G1 = sim.get_graph()\n",
    "nx.draw_networkx(G1)"
   ]
  },
  {
   "cell_type": "code",
   "execution_count": 52,
   "metadata": {},
   "outputs": [
    {
     "name": "stdout",
     "output_type": "stream",
     "text": [
      "Peer_1:basic WARNING 0: Not enough peers, fetching more (0, 4)\n",
      "Peer_1:basic INFO 24.810392529320886: Connecting to Peer_11:bootstrap\n",
      "Peer_1:basic INFO 50.18801417824535: Received message <RequestPeers:> from Peer_11:bootstrap\n",
      "Peer_1:basic INFO 50.18801417824535: Sending message <PeerList> to Peer_11:bootstrap\n",
      "Peer_1:basic INFO 50.75868887631585: Received message <Hello:> from Peer_11:bootstrap\n",
      "Peer_1:basic WARNING 500: Not enough peers, fetching more (1, 4)\n",
      "Peer_1:basic INFO 500: Sending message <RequestPeers:> to Peer_11:bootstrap\n",
      "Peer_1:basic INFO 525.456778693938: Received message <RequestPeers:> from Peer_11:bootstrap\n",
      "Peer_1:basic INFO 525.456778693938: Sending message <PeerList> to Peer_11:bootstrap\n",
      "Peer_1:basic INFO 553.1973954340428: Received message <PeerList> from Peer_11:bootstrap\n",
      "Peer_1:basic WARNING 1000: Not enough peers, fetching more (1, 4)\n",
      "Peer_1:basic INFO 1000: Sending message <RequestPeers:> to Peer_11:bootstrap\n",
      "Peer_1:basic INFO 1000.5000073753068: Received message <Hello:> from Peer_3:basic\n",
      "Peer_1:basic INFO 1000.5000073753068: Connecting to Peer_3:basic\n",
      "Peer_1:basic INFO 1000.5000073753068: Sending message <Hello:> to Peer_3:basic\n",
      "Peer_1:basic INFO 1000.5000073753068: Sending message <RequestPeers:> to Peer_3:basic\n",
      "Peer_1:basic INFO 1001.5000324095865: Received message <PeerList> from Peer_3:basic\n",
      "Peer_1:basic INFO 1025.1759732381995: Received message <Hello:> from Peer_5:basic\n",
      "Peer_1:basic INFO 1025.1759732381995: Connecting to Peer_5:basic\n",
      "Peer_1:basic INFO 1025.1759732381995: Sending message <Hello:> to Peer_5:basic\n",
      "Peer_1:basic INFO 1025.1759732381995: Sending message <RequestPeers:> to Peer_5:basic\n",
      "Peer_1:basic INFO 1025.2353183513305: Received message <Hello:> from Peer_2:basic\n",
      "Peer_1:basic INFO 1025.2353183513305: Connecting to Peer_2:basic\n",
      "Peer_1:basic INFO 1025.2353183513305: Sending message <Hello:> to Peer_2:basic\n",
      "Peer_1:basic INFO 1025.2353183513305: Sending message <RequestPeers:> to Peer_2:basic\n",
      "Peer_1:basic INFO 1027.1269903037205: Received message <Hello:> from Peer_4:basic\n",
      "Peer_1:basic INFO 1027.1269903037205: Connecting to Peer_4:basic\n",
      "Peer_1:basic INFO 1027.1269903037205: Sending message <Hello:> to Peer_4:basic\n",
      "Peer_1:basic INFO 1027.1269903037205: Sending message <RequestPeers:> to Peer_4:basic\n",
      "Peer_1:basic INFO 1050.0980189464844: Received message <PeerList> from Peer_11:bootstrap\n",
      "Peer_1:basic INFO 1075.3809234750138: Received message <PeerList> from Peer_2:basic\n",
      "Peer_1:basic INFO 1076.7877795309996: Received message <PeerList> from Peer_4:basic\n",
      "Peer_1:basic INFO 1077.638334646264: Received message <PeerList> from Peer_5:basic\n",
      "Peer_1:basic INFO 1500.500007375307: Received message <RequestPeers:> from Peer_3:basic\n",
      "Peer_1:basic INFO 1500.500007375307: Sending message <PeerList> to Peer_3:basic\n",
      "Peer_1:basic INFO 1523.998872562296: Received message <RequestPeers:> from Peer_2:basic\n",
      "Peer_1:basic INFO 1523.998872562296: Sending message <PeerList> to Peer_2:basic\n",
      "Peer_1:basic INFO 1524.3698458600904: Received message <RequestPeers:> from Peer_5:basic\n",
      "Peer_1:basic INFO 1524.3698458600904: Sending message <PeerList> to Peer_5:basic\n",
      "Peer_1:basic INFO 1524.9137055266206: Received message <RequestPeers:> from Peer_11:bootstrap\n",
      "Peer_1:basic INFO 1524.9137055266206: Sending message <PeerList> to Peer_11:bootstrap\n",
      "Peer_1:basic INFO 1525.900868641995: Received message <Hello:> from Peer_10:basic\n",
      "Peer_1:basic INFO 1525.900868641995: Connecting to Peer_10:basic\n",
      "Peer_1:basic INFO 1525.900868641995: Sending message <Hello:> to Peer_10:basic\n",
      "Peer_1:basic INFO 1525.900868641995: Sending message <RequestPeers:> to Peer_10:basic\n",
      "Peer_1:basic INFO 1575.0322749671195: Received message <PeerList> from Peer_10:basic\n",
      "Peer_1:basic INFO 2000: Sending message <Ping:> to Peer_4:basic\n",
      "Peer_1:basic INFO 2024.558309397951: Received message <Ping:> from Peer_4:basic\n",
      "Peer_1:basic INFO 2024.558309397951: Sending message <Pong:> to Peer_4:basic\n",
      "Peer_1:basic INFO 2026.3527382827965: Received message <RequestPeers:> from Peer_2:basic\n",
      "Peer_1:basic INFO 2026.3527382827965: Sending message <PeerList> to Peer_2:basic\n",
      "Peer_1:basic INFO 2048.934158808577: Received message <Hello:> from Peer_8:basic\n",
      "Peer_1:basic INFO 2048.934158808577: Connecting to Peer_8:basic\n",
      "Peer_1:basic INFO 2048.934158808577: Sending message <Hello:> to Peer_8:basic\n",
      "Peer_1:basic INFO 2048.934158808577: Sending message <RequestPeers:> to Peer_8:basic\n",
      "Peer_1:basic INFO 2050.015861797158: Received message <Pong:> from Peer_4:basic\n",
      "Peer_1:basic INFO 2147.9387029276936: Received message <PeerList> from Peer_8:basic\n",
      "Peer_1:basic INFO 2500: Sending message <Ping:> to Peer_11:bootstrap\n",
      "Peer_1:basic INFO 2500: Sending message <Ping:> to Peer_3:basic\n",
      "Peer_1:basic INFO 2500: Sending message <Ping:> to Peer_5:basic\n",
      "Peer_1:basic INFO 2500: Sending message <Ping:> to Peer_10:basic\n",
      "Peer_1:basic INFO 2500.5000073753067: Received message <Ping:> from Peer_3:basic\n",
      "Peer_1:basic INFO 2500.5000073753067: Sending message <Pong:> to Peer_3:basic\n",
      "Peer_1:basic INFO 2501.000016664117: Received message <Pong:> from Peer_3:basic\n",
      "Peer_1:basic INFO 2523.1381260397147: Received message <Ping:> from Peer_11:bootstrap\n",
      "Peer_1:basic INFO 2523.1381260397147: Sending message <Pong:> to Peer_11:bootstrap\n",
      "Peer_1:basic INFO 2524.7084993582616: Received message <Ping:> from Peer_5:basic\n",
      "Peer_1:basic INFO 2524.7084993582616: Sending message <Pong:> to Peer_5:basic\n",
      "Peer_1:basic INFO 2525.3856772431373: Received message <Ping:> from Peer_10:basic\n",
      "Peer_1:basic INFO 2525.3856772431373: Sending message <Pong:> to Peer_10:basic\n",
      "Peer_1:basic INFO 2548.7158994347847: Received message <Pong:> from Peer_5:basic\n",
      "Peer_1:basic INFO 2550.5852306223496: Received message <Pong:> from Peer_11:bootstrap\n",
      "Peer_1:basic INFO 2550.984932557073: Received message <Pong:> from Peer_10:basic\n",
      "Peer_1:basic INFO 3000: Sending message <Ping:> to Peer_2:basic\n",
      "Peer_1:basic INFO 3000: Sending message <Ping:> to Peer_4:basic\n",
      "Peer_1:basic INFO 3000: Sending message <Ping:> to Peer_8:basic\n",
      "Peer_1:basic INFO 3024.1170263700506: Received message <Ping:> from Peer_4:basic\n",
      "Peer_1:basic INFO 3024.1170263700506: Sending message <Pong:> to Peer_4:basic\n",
      "Peer_1:basic INFO 3024.508393412019: Received message <Ping:> from Peer_2:basic\n",
      "Peer_1:basic INFO 3024.508393412019: Sending message <Pong:> to Peer_2:basic\n",
      "Peer_1:basic INFO 3026.093358295815: Received message <RequestPeers:> from Peer_11:bootstrap\n",
      "Peer_1:basic INFO 3026.093358295815: Sending message <PeerList> to Peer_11:bootstrap\n",
      "Peer_1:basic INFO 3049.970919013731: Received message <Pong:> from Peer_4:basic\n",
      "Peer_1:basic INFO 3050.852876165944: Received message <Pong:> from Peer_2:basic\n",
      "Peer_1:basic INFO 3052.6163632005605: Received message <Ping:> from Peer_8:basic\n",
      "Peer_1:basic INFO 3052.6163632005605: Sending message <Pong:> to Peer_8:basic\n",
      "Peer_1:basic INFO 3098.890491977107: Received message <Pong:> from Peer_8:basic\n",
      "Peer_1:basic INFO 3500: Sending message <Ping:> to Peer_3:basic\n",
      "Peer_1:basic INFO 3500: Sending message <Ping:> to Peer_5:basic\n",
      "Peer_1:basic INFO 3500: Sending message <Ping:> to Peer_10:basic\n",
      "Peer_1:basic INFO 3500.5000073753067: Received message <Ping:> from Peer_3:basic\n",
      "Peer_1:basic INFO 3500.5000073753067: Sending message <Pong:> to Peer_3:basic\n",
      "Peer_1:basic INFO 3501.000016664117: Received message <Pong:> from Peer_3:basic\n",
      "Peer_1:basic INFO 3525.1484482696414: Received message <Ping:> from Peer_10:basic\n",
      "Peer_1:basic INFO 3525.1484482696414: Sending message <Pong:> to Peer_10:basic\n",
      "Peer_1:basic INFO 3525.9970090670045: Received message <Ping:> from Peer_5:basic\n",
      "Peer_1:basic INFO 3525.9970090670045: Sending message <Pong:> to Peer_5:basic\n",
      "Peer_1:basic INFO 3548.3272449620176: Received message <Pong:> from Peer_5:basic\n",
      "Peer_1:basic INFO 3549.0286411013217: Received message <Pong:> from Peer_10:basic\n",
      "Peer_1:basic INFO 4000: Sending message <Ping:> to Peer_11:bootstrap\n",
      "Peer_1:basic INFO 4000: Sending message <Ping:> to Peer_2:basic\n",
      "Peer_1:basic INFO 4000: Sending message <Ping:> to Peer_4:basic\n",
      "Peer_1:basic INFO 4000: Sending message <Ping:> to Peer_8:basic\n",
      "Peer_1:basic INFO 4022.9702181585944: Received message <Ping:> from Peer_2:basic\n",
      "Peer_1:basic INFO 4022.9702181585944: Sending message <Pong:> to Peer_2:basic\n",
      "Peer_1:basic INFO 4024.2774448564064: Received message <Ping:> from Peer_4:basic\n",
      "Peer_1:basic INFO 4024.2774448564064: Sending message <Pong:> to Peer_4:basic\n",
      "Peer_1:basic INFO 4025.4489815555303: Received message <Ping:> from Peer_11:bootstrap\n",
      "Peer_1:basic INFO 4025.4489815555303: Sending message <Pong:> to Peer_11:bootstrap\n",
      "Peer_1:basic INFO 4048.0557014022943: Received message <Pong:> from Peer_4:basic\n",
      "Peer_1:basic INFO 4049.7886375884887: Received message <Ping:> from Peer_8:basic\n",
      "Peer_1:basic INFO 4049.7886375884887: Sending message <Pong:> to Peer_8:basic\n",
      "Peer_1:basic INFO 4049.9413294269907: Received message <Pong:> from Peer_2:basic\n",
      "Peer_1:basic INFO 4051.8120053531075: Received message <Pong:> from Peer_11:bootstrap\n",
      "Peer_1:basic INFO 4102.30185892512: Received message <Pong:> from Peer_8:basic\n",
      "Peer_1:basic INFO 4500: Sending message <Ping:> to Peer_3:basic\n",
      "Peer_1:basic INFO 4500: Sending message <Ping:> to Peer_5:basic\n",
      "Peer_1:basic INFO 4500: Sending message <Ping:> to Peer_10:basic\n",
      "Peer_1:basic INFO 4500.500007375307: Received message <Ping:> from Peer_3:basic\n",
      "Peer_1:basic INFO 4500.500007375307: Sending message <Pong:> to Peer_3:basic\n",
      "Peer_1:basic INFO 4501.0000166641175: Received message <Pong:> from Peer_3:basic\n",
      "Peer_1:basic INFO 4524.0425767169745: Received message <Ping:> from Peer_5:basic\n",
      "Peer_1:basic INFO 4524.0425767169745: Sending message <Pong:> to Peer_5:basic\n",
      "Peer_1:basic INFO 4526.12730527446: Received message <Ping:> from Peer_10:basic\n",
      "Peer_1:basic INFO 4526.12730527446: Sending message <Pong:> to Peer_10:basic\n",
      "Peer_1:basic INFO 4551.423145779217: Received message <Pong:> from Peer_5:basic\n",
      "Peer_1:basic INFO 4553.224196108097: Received message <Pong:> from Peer_10:basic\n",
      "\n"
     ]
    }
   ],
   "source": [
    "with open('logs3/Peer_1:basic.log') as s:\n",
    "    print(s.read())"
   ]
  },
  {
   "cell_type": "code",
   "execution_count": 53,
   "metadata": {},
   "outputs": [
    {
     "name": "stdout",
     "output_type": "stream",
     "text": [
      "Peer_2:basic WARNING 0: Not enough peers, fetching more (0, 4)\n",
      "Peer_2:basic INFO 0.9308145822535248: Connecting to Peer_11:bootstrap\n",
      "Peer_2:basic INFO 1.666653166736242: Received message <Hello:> from Peer_11:bootstrap\n",
      "Peer_2:basic INFO 1.9839863065224634: Received message <RequestPeers:> from Peer_11:bootstrap\n",
      "Peer_2:basic INFO 1.9839863065224634: Sending message <PeerList> to Peer_11:bootstrap\n",
      "Peer_2:basic WARNING 500: Not enough peers, fetching more (1, 4)\n",
      "Peer_2:basic INFO 500: Sending message <RequestPeers:> to Peer_11:bootstrap\n",
      "Peer_2:basic INFO 501.1370136218015: Received message <RequestPeers:> from Peer_11:bootstrap\n",
      "Peer_2:basic INFO 501.1370136218015: Sending message <PeerList> to Peer_11:bootstrap\n",
      "Peer_2:basic INFO 502.16297532660843: Received message <PeerList> from Peer_11:bootstrap\n",
      "Peer_2:basic WARNING 1000: Not enough peers, fetching more (1, 4)\n",
      "Peer_2:basic INFO 1000: Sending message <RequestPeers:> to Peer_11:bootstrap\n",
      "Peer_2:basic INFO 1002.1182650208674: Received message <PeerList> from Peer_11:bootstrap\n",
      "Peer_2:basic INFO 1025.2353183513305: Connecting to Peer_1:basic\n",
      "Peer_2:basic INFO 1050.532369450501: Received message <Hello:> from Peer_1:basic\n",
      "Peer_2:basic INFO 1051.344750966033: Received message <RequestPeers:> from Peer_1:basic\n",
      "Peer_2:basic INFO 1051.344750966033: Sending message <PeerList> to Peer_1:basic\n",
      "Peer_2:basic WARNING 1500: Not enough peers, fetching more (2, 4)\n",
      "Peer_2:basic INFO 1500: Sending message <RequestPeers:> to Peer_1:basic\n",
      "Peer_2:basic INFO 1500: Sending message <RequestPeers:> to Peer_11:bootstrap\n",
      "Peer_2:basic INFO 1501.5257893690723: Received message <RequestPeers:> from Peer_11:bootstrap\n",
      "Peer_2:basic INFO 1501.5257893690723: Sending message <PeerList> to Peer_11:bootstrap\n",
      "Peer_2:basic INFO 1501.8635377311077: Received message <PeerList> from Peer_11:bootstrap\n",
      "Peer_2:basic INFO 1548.5421606033751: Received message <PeerList> from Peer_1:basic\n",
      "Peer_2:basic WARNING 2000: Not enough peers, fetching more (2, 4)\n",
      "Peer_2:basic INFO 2000: Sending message <RequestPeers:> to Peer_11:bootstrap\n",
      "Peer_2:basic INFO 2000: Sending message <RequestPeers:> to Peer_1:basic\n",
      "Peer_2:basic INFO 2000.8671990086111: Received message <RequestPeers:> from Peer_11:bootstrap\n",
      "Peer_2:basic INFO 2000.8671990086111: Sending message <PeerList> to Peer_11:bootstrap\n",
      "Peer_2:basic INFO 2002.3289264931043: Received message <PeerList> from Peer_11:bootstrap\n",
      "Peer_2:basic INFO 2025.112989875573: Connecting to Peer_6:basic\n",
      "Peer_2:basic INFO 2050.552466428922: Received message <PeerList> from Peer_1:basic\n",
      "Peer_2:basic INFO 2050.872657742842: Received message <RequestPeers:> from Peer_6:basic\n",
      "Peer_2:basic INFO 2050.872657742842: Sending message <PeerList> to Peer_6:basic\n",
      "Peer_2:basic INFO 2051.517743569326: Received message <Hello:> from Peer_6:basic\n",
      "Peer_2:basic WARNING 2500: Not enough peers, fetching more (3, 4)\n",
      "Peer_2:basic INFO 2524.6576900861846: Connecting to Peer_3:basic\n",
      "Peer_2:basic INFO 2549.4989452115997: Received message <RequestPeers:> from Peer_3:basic\n",
      "Peer_2:basic INFO 2549.4989452115997: Sending message <PeerList> to Peer_3:basic\n",
      "Peer_2:basic INFO 2551.8391593490946: Received message <Hello:> from Peer_3:basic\n",
      "Peer_2:basic INFO 3000: Sending message <Ping:> to Peer_11:bootstrap\n",
      "Peer_2:basic INFO 3000: Sending message <Ping:> to Peer_1:basic\n",
      "Peer_2:basic INFO 3000: Sending message <Ping:> to Peer_6:basic\n",
      "Peer_2:basic INFO 3000.6715503094983: Received message <Ping:> from Peer_11:bootstrap\n",
      "Peer_2:basic INFO 3000.6715503094983: Sending message <Pong:> to Peer_11:bootstrap\n",
      "Peer_2:basic INFO 3000.9901726197595: Received message <RequestPeers:> from Peer_11:bootstrap\n",
      "Peer_2:basic INFO 3000.9901726197595: Sending message <PeerList> to Peer_11:bootstrap\n",
      "Peer_2:basic INFO 3002.6437320909195: Received message <Pong:> from Peer_11:bootstrap\n",
      "Peer_2:basic INFO 3024.965128916398: Received message <Ping:> from Peer_1:basic\n",
      "Peer_2:basic INFO 3024.965128916398: Sending message <Pong:> to Peer_1:basic\n",
      "Peer_2:basic INFO 3027.827436410159: Received message <Ping:> from Peer_6:basic\n",
      "Peer_2:basic INFO 3027.827436410159: Sending message <Pong:> to Peer_6:basic\n",
      "Peer_2:basic INFO 3049.2626640650683: Received message <Pong:> from Peer_1:basic\n",
      "Peer_2:basic INFO 3050.8685006807796: Received message <Pong:> from Peer_6:basic\n",
      "Peer_2:basic INFO 3500: Sending message <Ping:> to Peer_3:basic\n",
      "Peer_2:basic INFO 3500.8295401886817: Received message <RequestPeers:> from Peer_11:bootstrap\n",
      "Peer_2:basic INFO 3500.8295401886817: Sending message <PeerList> to Peer_11:bootstrap\n",
      "Peer_2:basic INFO 3524.631604065564: Received message <Ping:> from Peer_3:basic\n",
      "Peer_2:basic INFO 3524.631604065564: Sending message <Pong:> to Peer_3:basic\n",
      "Peer_2:basic INFO 3548.905476222069: Received message <Pong:> from Peer_3:basic\n",
      "Peer_2:basic INFO 4000: Sending message <Ping:> to Peer_1:basic\n",
      "Peer_2:basic INFO 4000: Sending message <Ping:> to Peer_6:basic\n",
      "Peer_2:basic INFO 4001.3889035435714: Received message <RequestPeers:> from Peer_11:bootstrap\n",
      "Peer_2:basic INFO 4001.3889035435714: Sending message <PeerList> to Peer_11:bootstrap\n",
      "Peer_2:basic INFO 4024.5573325747946: Received message <Ping:> from Peer_1:basic\n",
      "Peer_2:basic INFO 4024.5573325747946: Sending message <Pong:> to Peer_1:basic\n",
      "Peer_2:basic INFO 4026.202125248932: Received message <Ping:> from Peer_6:basic\n",
      "Peer_2:basic INFO 4026.202125248932: Sending message <Pong:> to Peer_6:basic\n",
      "Peer_2:basic INFO 4048.0795978897345: Received message <Pong:> from Peer_1:basic\n",
      "Peer_2:basic INFO 4050.6524222152625: Received message <Pong:> from Peer_6:basic\n",
      "Peer_2:basic INFO 4500: Sending message <Ping:> to Peer_3:basic\n",
      "Peer_2:basic INFO 4523.287228292486: Received message <Ping:> from Peer_3:basic\n",
      "Peer_2:basic INFO 4523.287228292486: Sending message <Pong:> to Peer_3:basic\n",
      "Peer_2:basic INFO 4547.468109830713: Received message <Pong:> from Peer_3:basic\n",
      "\n"
     ]
    }
   ],
   "source": [
    "with open('logs3/Peer_2:basic.log') as s:\n",
    "    print(s.read())"
   ]
  },
  {
   "cell_type": "markdown",
   "metadata": {},
   "source": [
    "### Change the rules for the discovery"
   ]
  },
  {
   "cell_type": "code",
   "execution_count": 61,
   "metadata": {},
   "outputs": [
    {
     "name": "stdout",
     "output_type": "stream",
     "text": [
      "Peer_2:basic WARNING 0: Not enough peers, fetching more (0, 3)\n",
      "Peer_2:basic INFO 4.880644588547186: Connecting to Peer_11:bootstrap\n",
      "Peer_2:basic INFO 10.260158353530025: Received message <RequestPeers:> from Peer_11:bootstrap\n",
      "Peer_2:basic INFO 10.260158353530025: Sending message <PeerList> to Peer_11:bootstrap\n",
      "Peer_2:basic INFO 10.686890588985793: Received message <Hello:> from Peer_11:bootstrap\n",
      "Peer_2:basic WARNING 500: Not enough peers, fetching more (1, 3)\n",
      "Peer_2:basic INFO 500: Sending message <RequestPeers:> to Peer_11:bootstrap\n",
      "Peer_2:basic INFO 510.47243858677336: Received message <PeerList> from Peer_11:bootstrap\n",
      "Peer_2:basic WARNING 1000: Not enough peers, fetching more (1, 3)\n",
      "Peer_2:basic INFO 1000: Sending message <RequestPeers:> to Peer_11:bootstrap\n",
      "Peer_2:basic INFO 1000.9243445111896: Connecting to Peer_8:basic\n",
      "Peer_2:basic INFO 1001.1856152676854: Received message <Hello:> from Peer_8:basic\n",
      "Peer_2:basic INFO 1001.8539499137825: Received message <RequestPeers:> from Peer_8:basic\n",
      "Peer_2:basic INFO 1001.8539499137825: Sending message <PeerList> to Peer_8:basic\n",
      "Peer_2:basic INFO 1001.9726836721785: Received message <Hello:> from Peer_8:basic\n",
      "Peer_2:basic INFO 1009.503236250939: Received message <PeerList> from Peer_11:bootstrap\n",
      "Peer_2:basic INFO 1024.0010154993543: Received message <Hello:> from Peer_5:basic\n",
      "Peer_2:basic INFO 1024.0010154993543: Connecting to Peer_5:basic\n",
      "Peer_2:basic INFO 1024.0010154993543: Sending message <Hello:> to Peer_5:basic\n",
      "Peer_2:basic INFO 1024.0010154993543: Sending message <RequestPeers:> to Peer_5:basic\n",
      "Peer_2:basic INFO 1074.7721698255414: Received message <PeerList> from Peer_5:basic\n",
      "Peer_2:basic INFO 2000: Sending message <Ping:> to Peer_11:bootstrap\n",
      "Peer_2:basic INFO 2000: Sending message <Ping:> to Peer_8:basic\n",
      "Peer_2:basic INFO 2000: Sending message <Ping:> to Peer_5:basic\n",
      "Peer_2:basic INFO 2001.0215226395217: Received message <Ping:> from Peer_8:basic\n",
      "Peer_2:basic INFO 2001.0215226395217: Sending message <Pong:> to Peer_8:basic\n",
      "Peer_2:basic INFO 2001.700252433584: Received message <Pong:> from Peer_8:basic\n",
      "Peer_2:basic INFO 2005.2180597453232: Received message <Ping:> from Peer_11:bootstrap\n",
      "Peer_2:basic INFO 2005.2180597453232: Sending message <Pong:> to Peer_11:bootstrap\n",
      "Peer_2:basic INFO 2009.658447650436: Received message <Pong:> from Peer_11:bootstrap\n",
      "Peer_2:basic INFO 2024.3014869677668: Received message <Ping:> from Peer_5:basic\n",
      "Peer_2:basic INFO 2024.3014869677668: Sending message <Pong:> to Peer_5:basic\n",
      "Peer_2:basic INFO 2050.7530559441193: Received message <Pong:> from Peer_5:basic\n",
      "Peer_2:basic INFO 2506.5394358161952: Received message <RequestPeers:> from Peer_11:bootstrap\n",
      "Peer_2:basic INFO 2506.5394358161952: Sending message <PeerList> to Peer_11:bootstrap\n",
      "Peer_2:basic INFO 3000: Sending message <Ping:> to Peer_8:basic\n",
      "Peer_2:basic INFO 3000: Sending message <Ping:> to Peer_5:basic\n",
      "Peer_2:basic INFO 3001.001704374959: Received message <Ping:> from Peer_8:basic\n",
      "Peer_2:basic INFO 3001.001704374959: Sending message <Pong:> to Peer_8:basic\n",
      "Peer_2:basic INFO 3002.092342985858: Received message <Pong:> from Peer_8:basic\n",
      "Peer_2:basic INFO 3026.3158615109646: Received message <Ping:> from Peer_5:basic\n",
      "Peer_2:basic INFO 3026.3158615109646: Sending message <Pong:> to Peer_5:basic\n",
      "Peer_2:basic INFO 3051.891929212701: Received message <Pong:> from Peer_5:basic\n",
      "Peer_2:basic INFO 3500: Sending message <Ping:> to Peer_11:bootstrap\n",
      "Peer_2:basic INFO 3504.3916540104633: Received message <Ping:> from Peer_11:bootstrap\n",
      "Peer_2:basic INFO 3504.3916540104633: Sending message <Pong:> to Peer_11:bootstrap\n",
      "Peer_2:basic INFO 3506.201733792077: Received message <RequestPeers:> from Peer_11:bootstrap\n",
      "Peer_2:basic INFO 3506.201733792077: Sending message <PeerList> to Peer_11:bootstrap\n",
      "Peer_2:basic INFO 3513.5624926611745: Received message <Pong:> from Peer_11:bootstrap\n",
      "Peer_2:basic INFO 4000: Sending message <Ping:> to Peer_8:basic\n",
      "Peer_2:basic INFO 4000: Sending message <Ping:> to Peer_5:basic\n",
      "Peer_2:basic INFO 4000.434181315638: Received message <Ping:> from Peer_8:basic\n",
      "Peer_2:basic INFO 4000.434181315638: Sending message <Pong:> to Peer_8:basic\n",
      "Peer_2:basic INFO 4001.676606589757: Received message <Pong:> from Peer_8:basic\n",
      "Peer_2:basic INFO 4007.5465243501026: Received message <RequestPeers:> from Peer_11:bootstrap\n",
      "Peer_2:basic INFO 4007.5465243501026: Sending message <PeerList> to Peer_11:bootstrap\n",
      "Peer_2:basic INFO 4027.2258636455167: Received message <Ping:> from Peer_5:basic\n",
      "Peer_2:basic INFO 4027.2258636455167: Sending message <Pong:> to Peer_5:basic\n",
      "Peer_2:basic INFO 4051.8927615727057: Received message <Pong:> from Peer_5:basic\n",
      "\n"
     ]
    },
    {
     "data": {
      "image/png": "[encoded data removed]",
      "text/plain": [
       "<Figure size 432x288 with 1 Axes>"
      ]
     },
     "metadata": {},
     "output_type": "display_data"
    }
   ],
   "source": [
    "class ConnectionConfig(Config):\n",
    "    min_peers = 3\n",
    "    max_peers = 5\n",
    "    \n",
    "peer_types = {'basic': PeerType(PeerConfig2, {P2PConnectionManager: ConnectionConfig})}\n",
    "sim = BaseSimulation(Locations2, topology_specs, peer_types, logger_dir='logs3')\n",
    "\n",
    "sim.run(5_000)\n",
    "G1 = sim.get_graph()\n",
    "nx.draw_networkx(G1)\n",
    "\n",
    "with open('logs3/Peer_2:basic.log') as s:\n",
    "    print(s.read())"
   ]
  },
  {
   "cell_type": "code",
   "execution_count": null,
   "metadata": {},
   "outputs": [],
   "source": []
  }
 ],
 "metadata": {
  "hide_input": false,
  "kernelspec": {
   "display_name": "Python 3",
   "language": "python",
   "name": "python3"
  },
  "language_info": {
   "codemirror_mode": {
    "name": "ipython",
    "version": 3
   },
   "file_extension": ".py",
   "mimetype": "text/x-python",
   "name": "python",
   "nbconvert_exporter": "python",
   "pygments_lexer": "ipython3",
   "version": "3.7.9"
  },
  "pycharm": {
   "stem_cell": {
    "cell_type": "raw",
    "metadata": {
     "collapsed": false
    },
    "source": []
   }
  },
  "toc": {
   "base_numbering": 1,
   "nav_menu": {},
   "number_sections": true,
   "sideBar": true,
   "skip_h1_title": false,
   "title_cell": "Table of Contents",
   "title_sidebar": "Contents",
   "toc_cell": false,
   "toc_position": {
    "height": "524px",
    "left": "441px",
    "top": "355px",
    "width": "256px"
   },
   "toc_section_display": true,
   "toc_window_display": false
  },
  "varInspector": {
   "cols": {
    "lenName": 16,
    "lenType": 16,
    "lenVar": 40
   },
   "kernels_config": {
    "python": {
     "delete_cmd_postfix": "",
     "delete_cmd_prefix": "del ",
     "library": "var_list.py",
     "varRefreshCmd": "print(var_dic_list())"
    },
    "r": {
     "delete_cmd_postfix": ") ",
     "delete_cmd_prefix": "rm(",
     "library": "var_list.r",
     "varRefreshCmd": "cat(var_dic_list()) "
    }
   },
   "types_to_exclude": [
    "module",
    "function",
    "builtin_function_or_method",
    "instance",
    "_Feature"
   ],
   "window_display": false
  }
 },
 "nbformat": 4,
 "nbformat_minor": 4
}
